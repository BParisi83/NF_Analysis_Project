{
 "cells": [
  {
   "cell_type": "code",
   "execution_count": 1,
   "metadata": {},
   "outputs": [],
   "source": [
    "import pandas as pd\n",
    "import numpy as np\n",
    "import matplotlib.pyplot as plt"
   ]
  },
  {
   "cell_type": "code",
   "execution_count": 2,
   "metadata": {},
   "outputs": [],
   "source": [
    "measures = pd.read_csv('C:/users/bernie/desktop/data_sets/subj_measures.csv')"
   ]
  },
  {
   "cell_type": "code",
   "execution_count": 3,
   "metadata": {
    "scrolled": true
   },
   "outputs": [
    {
     "data": {
      "text/html": [
       "<div>\n",
       "<style scoped>\n",
       "    .dataframe tbody tr th:only-of-type {\n",
       "        vertical-align: middle;\n",
       "    }\n",
       "\n",
       "    .dataframe tbody tr th {\n",
       "        vertical-align: top;\n",
       "    }\n",
       "\n",
       "    .dataframe thead th {\n",
       "        text-align: right;\n",
       "    }\n",
       "</style>\n",
       "<table border=\"1\" class=\"dataframe\">\n",
       "  <thead>\n",
       "    <tr style=\"text-align: right;\">\n",
       "      <th></th>\n",
       "      <th>date</th>\n",
       "      <th>user_id</th>\n",
       "      <th>type</th>\n",
       "      <th>value</th>\n",
       "    </tr>\n",
       "  </thead>\n",
       "  <tbody>\n",
       "    <tr>\n",
       "      <th>0</th>\n",
       "      <td>2019-06-08T23:19:34.418Z</td>\n",
       "      <td>2348</td>\n",
       "      <td>mood</td>\n",
       "      <td>2.76</td>\n",
       "    </tr>\n",
       "    <tr>\n",
       "      <th>1</th>\n",
       "      <td>2019-06-13T16:33:34.399Z</td>\n",
       "      <td>5232</td>\n",
       "      <td>sleep</td>\n",
       "      <td>2.44</td>\n",
       "    </tr>\n",
       "    <tr>\n",
       "      <th>2</th>\n",
       "      <td>2018-12-26T14:24:00.436Z</td>\n",
       "      <td>4209</td>\n",
       "      <td>sleep</td>\n",
       "      <td>1.88</td>\n",
       "    </tr>\n",
       "    <tr>\n",
       "      <th>3</th>\n",
       "      <td>2019-07-17T20:11:23.792Z</td>\n",
       "      <td>2802</td>\n",
       "      <td>mood</td>\n",
       "      <td>2.20</td>\n",
       "    </tr>\n",
       "    <tr>\n",
       "      <th>4</th>\n",
       "      <td>2019-05-09T17:27:50.900Z</td>\n",
       "      <td>2025</td>\n",
       "      <td>mood</td>\n",
       "      <td>4.00</td>\n",
       "    </tr>\n",
       "  </tbody>\n",
       "</table>\n",
       "</div>"
      ],
      "text/plain": [
       "                       date  user_id   type  value\n",
       "0  2019-06-08T23:19:34.418Z     2348   mood   2.76\n",
       "1  2019-06-13T16:33:34.399Z     5232  sleep   2.44\n",
       "2  2018-12-26T14:24:00.436Z     4209  sleep   1.88\n",
       "3  2019-07-17T20:11:23.792Z     2802   mood   2.20\n",
       "4  2019-05-09T17:27:50.900Z     2025   mood   4.00"
      ]
     },
     "execution_count": 3,
     "metadata": {},
     "output_type": "execute_result"
    }
   ],
   "source": [
    "measures.head()"
   ]
  },
  {
   "cell_type": "code",
   "execution_count": 4,
   "metadata": {},
   "outputs": [],
   "source": [
    "# How many users are in this data set?\n",
    "id_count = measures.user_id.nunique()\n",
    "# Which users have the most logs in this data set?\n",
    "freq_ids = measures.drop_duplicates().user_id.value_counts()\n"
   ]
  },
  {
   "cell_type": "code",
   "execution_count": 5,
   "metadata": {},
   "outputs": [],
   "source": [
    "# Create a column for the date in the datetime format\n",
    "measures= measures.assign(new_ts = pd.to_datetime(measures.loc[:,'date']))\n",
    "\n",
    "# Create a column for the hour that the person logged their data\n",
    "measures= measures.assign(hour_measure = measures.new_ts.dt.hour)"
   ]
  },
  {
   "cell_type": "code",
   "execution_count": 6,
   "metadata": {},
   "outputs": [
    {
     "data": {
      "image/png": "[encoded data removed]",
      "text/plain": [
       "<Figure size 432x288 with 1 Axes>"
      ]
     },
     "metadata": {
      "needs_background": "light"
     },
     "output_type": "display_data"
    }
   ],
   "source": [
    "# Let's get an idea of when people are logging different types of emotions\n",
    "hist_sleep = measures[measures['type'] =='sleep']['hour_measure'].hist(bins=24)\n",
    "hist_sleep.set_title('Count of Sleep Measures Logged by Hour')\n",
    "plt.show()"
   ]
  },
  {
   "cell_type": "code",
   "execution_count": 7,
   "metadata": {},
   "outputs": [
    {
     "data": {
      "image/png": "[encoded data removed]",
      "text/plain": [
       "<Figure size 432x288 with 1 Axes>"
      ]
     },
     "metadata": {
      "needs_background": "light"
     },
     "output_type": "display_data"
    }
   ],
   "source": [
    "hist_mood = measures[measures['type'] =='mood']['hour_measure'].hist(bins=24)\n",
    "hist_mood.set_title('Count of Mood Measures Logged by Hour')\n",
    "plt.show()"
   ]
  },
  {
   "cell_type": "code",
   "execution_count": 8,
   "metadata": {},
   "outputs": [
    {
     "data": {
      "image/png": "[encoded data removed]",
      "text/plain": [
       "<Figure size 432x288 with 1 Axes>"
      ]
     },
     "metadata": {
      "needs_background": "light"
     },
     "output_type": "display_data"
    }
   ],
   "source": [
    "hist_stress = measures[measures['type'] =='anticipatoryStress']['hour_measure'].hist(bins=24)\n",
    "hist_stress.set_title('Count of Anticipatory Stress Measures Logged by Hour')\n",
    "plt.show()"
   ]
  },
  {
   "cell_type": "code",
   "execution_count": 9,
   "metadata": {
    "scrolled": true
   },
   "outputs": [
    {
     "data": {
      "image/png": "[encoded data removed]",
      "text/plain": [
       "<Figure size 432x288 with 1 Axes>"
      ]
     },
     "metadata": {
      "needs_background": "light"
     },
     "output_type": "display_data"
    }
   ],
   "source": [
    "hist_rumination = measures[measures['type'] =='ruminationStress']['hour_measure'].hist(bins=24)\n",
    "hist_rumination.set_title('Count of Rumination Measures Logged by Hour')\n",
    "plt.show()"
   ]
  },
  {
   "cell_type": "code",
   "execution_count": 10,
   "metadata": {},
   "outputs": [
    {
     "data": {
      "text/plain": [
       "2012    539\n",
       "2802    437\n",
       "2025    393\n",
       "1044    279\n",
       "Name: user_id, dtype: int64"
      ]
     },
     "execution_count": 10,
     "metadata": {},
     "output_type": "execute_result"
    }
   ],
   "source": [
    "### Analysis\n",
    "# It seems that no matter the measure being logged the users are inputting them mostly around 12pm - 2pm\n",
    "# lets look at a singler user and see if we can visual any patterins in their\n",
    "# rating and the time that they log the measure.\n",
    "freq_ids[0:4]\n"
   ]
  },
  {
   "cell_type": "code",
   "execution_count": 11,
   "metadata": {},
   "outputs": [],
   "source": [
    "# We will take the user_id 2012 since it has the most number of records in the file\n",
    "user_2012 =  measures[measures['user_id'] ==2012]"
   ]
  },
  {
   "cell_type": "code",
   "execution_count": 12,
   "metadata": {},
   "outputs": [
    {
     "data": {
      "image/png": "[encoded data removed]",
      "text/plain": [
       "<Figure size 432x288 with 1 Axes>"
      ]
     },
     "metadata": {
      "needs_background": "light"
     },
     "output_type": "display_data"
    }
   ],
   "source": [
    "\n",
    "plt.hist2d(user_2012['hour_measure'],user_2012['value'],cmap=plt.cm.BuGn_r)\n",
    "plt.show()"
   ]
  },
  {
   "cell_type": "code",
   "execution_count": 13,
   "metadata": {},
   "outputs": [],
   "source": [
    "#The lighter the region the greater the density.\n",
    "# we can see that once again we have a large number of records in that 12-3 timeframe\n",
    "# additionally now we can see there are mostly centered around the 3.5-4 and 2-2.5 ranges\n",
    "# One last thing to look at might be if we can see a change in their ratings over time\n",
    "# Lets look at the data in terms of months"
   ]
  },
  {
   "cell_type": "code",
   "execution_count": 14,
   "metadata": {},
   "outputs": [],
   "source": [
    "# Average Score by Month for the User 2012\n",
    "user_2012 =user_2012.assign(YearMonth = user_2012['new_ts'].dt.to_period('M'))\n"
   ]
  },
  {
   "cell_type": "code",
   "execution_count": 15,
   "metadata": {},
   "outputs": [
    {
     "data": {
      "text/html": [
       "<div>\n",
       "<style scoped>\n",
       "    .dataframe tbody tr th:only-of-type {\n",
       "        vertical-align: middle;\n",
       "    }\n",
       "\n",
       "    .dataframe tbody tr th {\n",
       "        vertical-align: top;\n",
       "    }\n",
       "\n",
       "    .dataframe thead th {\n",
       "        text-align: right;\n",
       "    }\n",
       "</style>\n",
       "<table border=\"1\" class=\"dataframe\">\n",
       "  <thead>\n",
       "    <tr style=\"text-align: right;\">\n",
       "      <th></th>\n",
       "      <th>YearMonth</th>\n",
       "      <th>user_id</th>\n",
       "      <th>value</th>\n",
       "      <th>hour_measure</th>\n",
       "    </tr>\n",
       "  </thead>\n",
       "  <tbody>\n",
       "    <tr>\n",
       "      <th>0</th>\n",
       "      <td>2018-09</td>\n",
       "      <td>2012.0</td>\n",
       "      <td>3.120000</td>\n",
       "      <td>12.0</td>\n",
       "    </tr>\n",
       "    <tr>\n",
       "      <th>1</th>\n",
       "      <td>2018-10</td>\n",
       "      <td>2012.0</td>\n",
       "      <td>2.337797</td>\n",
       "      <td>13.0</td>\n",
       "    </tr>\n",
       "    <tr>\n",
       "      <th>2</th>\n",
       "      <td>2018-11</td>\n",
       "      <td>2012.0</td>\n",
       "      <td>2.307956</td>\n",
       "      <td>15.0</td>\n",
       "    </tr>\n",
       "    <tr>\n",
       "      <th>3</th>\n",
       "      <td>2018-12</td>\n",
       "      <td>2012.0</td>\n",
       "      <td>2.400000</td>\n",
       "      <td>14.0</td>\n",
       "    </tr>\n",
       "    <tr>\n",
       "      <th>4</th>\n",
       "      <td>2019-01</td>\n",
       "      <td>2012.0</td>\n",
       "      <td>2.217731</td>\n",
       "      <td>13.0</td>\n",
       "    </tr>\n",
       "    <tr>\n",
       "      <th>5</th>\n",
       "      <td>2019-02</td>\n",
       "      <td>2012.0</td>\n",
       "      <td>2.359545</td>\n",
       "      <td>14.0</td>\n",
       "    </tr>\n",
       "    <tr>\n",
       "      <th>6</th>\n",
       "      <td>2019-03</td>\n",
       "      <td>2012.0</td>\n",
       "      <td>2.000000</td>\n",
       "      <td>13.0</td>\n",
       "    </tr>\n",
       "    <tr>\n",
       "      <th>7</th>\n",
       "      <td>2019-04</td>\n",
       "      <td>2012.0</td>\n",
       "      <td>2.282396</td>\n",
       "      <td>14.0</td>\n",
       "    </tr>\n",
       "    <tr>\n",
       "      <th>8</th>\n",
       "      <td>2019-05</td>\n",
       "      <td>2012.0</td>\n",
       "      <td>2.681093</td>\n",
       "      <td>14.5</td>\n",
       "    </tr>\n",
       "    <tr>\n",
       "      <th>9</th>\n",
       "      <td>2019-06</td>\n",
       "      <td>2012.0</td>\n",
       "      <td>2.143150</td>\n",
       "      <td>13.0</td>\n",
       "    </tr>\n",
       "    <tr>\n",
       "      <th>10</th>\n",
       "      <td>2019-07</td>\n",
       "      <td>2012.0</td>\n",
       "      <td>2.239982</td>\n",
       "      <td>13.0</td>\n",
       "    </tr>\n",
       "  </tbody>\n",
       "</table>\n",
       "</div>"
      ],
      "text/plain": [
       "   YearMonth  user_id     value  hour_measure\n",
       "0    2018-09   2012.0  3.120000          12.0\n",
       "1    2018-10   2012.0  2.337797          13.0\n",
       "2    2018-11   2012.0  2.307956          15.0\n",
       "3    2018-12   2012.0  2.400000          14.0\n",
       "4    2019-01   2012.0  2.217731          13.0\n",
       "5    2019-02   2012.0  2.359545          14.0\n",
       "6    2019-03   2012.0  2.000000          13.0\n",
       "7    2019-04   2012.0  2.282396          14.0\n",
       "8    2019-05   2012.0  2.681093          14.5\n",
       "9    2019-06   2012.0  2.143150          13.0\n",
       "10   2019-07   2012.0  2.239982          13.0"
      ]
     },
     "execution_count": 15,
     "metadata": {},
     "output_type": "execute_result"
    }
   ],
   "source": [
    "median_by_YM =user_2012.groupby(['YearMonth'], as_index=False).median()\n",
    "# Take a look at the time frame ensure that they are in order by date\n",
    "median_by_YM"
   ]
  },
  {
   "cell_type": "code",
   "execution_count": 16,
   "metadata": {},
   "outputs": [
    {
     "data": {
      "image/png": "[encoded data removed]",
      "text/plain": [
       "<Figure size 432x288 with 1 Axes>"
      ]
     },
     "metadata": {
      "needs_background": "light"
     },
     "output_type": "display_data"
    }
   ],
   "source": [
    "# Create a plot of the median value reported for each month-year\n",
    "median_by_YM[['YearMonth','value']].plot(kind='line')\n",
    "plt.show()"
   ]
  },
  {
   "cell_type": "code",
   "execution_count": 17,
   "metadata": {},
   "outputs": [
    {
     "data": {
      "image/png": "[encoded data removed]",
      "text/plain": [
       "<Figure size 432x288 with 1 Axes>"
      ]
     },
     "metadata": {
      "needs_background": "light"
     },
     "output_type": "display_data"
    }
   ],
   "source": [
    "# Create a plot of the mean value reported for each month-year\n",
    "mean_by_YM =user_2012.groupby(['YearMonth'], as_index=False).mean()\n",
    "mean_by_YM.head()\n",
    "mean_by_YM[['YearMonth','value']].plot(kind='line')\n",
    "plt.show()"
   ]
  },
  {
   "cell_type": "code",
   "execution_count": 18,
   "metadata": {},
   "outputs": [],
   "source": [
    "# This user seems to have been using this treatment for 10 months\n",
    "# The mean or the median both seem to show the same pattern\n",
    "# The drop off between timeframe 8 and 9 is concerning as 9 was the highest\n",
    "# since the first log in and 9 was one of the lowest by either measure"
   ]
  }
 ],
 "metadata": {
  "kernelspec": {
   "display_name": "Python 3",
   "language": "python",
   "name": "python3"
  },
  "language_info": {
   "codemirror_mode": {
    "name": "ipython",
    "version": 3
   },
   "file_extension": ".py",
   "mimetype": "text/x-python",
   "name": "python",
   "nbconvert_exporter": "python",
   "pygments_lexer": "ipython3",
   "version": "3.7.0"
  }
 },
 "nbformat": 4,
 "nbformat_minor": 2
}
